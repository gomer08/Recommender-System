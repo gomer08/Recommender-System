{
 "cells": [
  {
   "cell_type": "code",
   "execution_count": 1,
   "metadata": {},
   "outputs": [],
   "source": [
    "import sys\n",
    "import requests\n",
    "import matplotlib.pyplot as plt\n",
    "import pandas as pd\n",
    "import datetime\n",
    "sys.path.append('project')"
   ]
  },
  {
   "cell_type": "code",
   "execution_count": 2,
   "metadata": {
    "scrolled": true
   },
   "outputs": [
    {
     "ename": "SyntaxError",
     "evalue": "invalid syntax (driver.py, line 56)",
     "output_type": "error",
     "traceback": [
      "Traceback \u001b[1;36m(most recent call last)\u001b[0m:\n",
      "  File \u001b[0;32m\"C:\\Users\\Asus\\anaconda3\\lib\\site-packages\\IPython\\core\\interactiveshell.py\"\u001b[0m, line \u001b[0;32m3418\u001b[0m, in \u001b[0;35mrun_code\u001b[0m\n    exec(code_obj, self.user_global_ns, self.user_ns)\n",
      "\u001b[1;36m  File \u001b[1;32m\"<ipython-input-2-99f732dd83e5>\"\u001b[1;36m, line \u001b[1;32m1\u001b[1;36m, in \u001b[1;35m<module>\u001b[1;36m\u001b[0m\n\u001b[1;33m    import driver\u001b[0m\n",
      "\u001b[1;36m  File \u001b[1;32m\"project\\driver.py\"\u001b[1;36m, line \u001b[1;32m56\u001b[0m\n\u001b[1;33m    <<<<<<< HEAD\u001b[0m\n\u001b[1;37m    ^\u001b[0m\n\u001b[1;31mSyntaxError\u001b[0m\u001b[1;31m:\u001b[0m invalid syntax\n"
     ]
    }
   ],
   "source": [
    "import driver"
   ]
  },
  {
   "cell_type": "code",
   "execution_count": null,
   "metadata": {},
   "outputs": [],
   "source": [
    "import warnings\n",
    "warnings.filterwarnings('ignore')\n",
    "\n",
    "import ipywidgets as widgets\n",
    "from IPython.display import display, clear_output"
   ]
  },
  {
   "cell_type": "code",
   "execution_count": null,
   "metadata": {},
   "outputs": [],
   "source": [
    "# tweet\n",
    "\n",
    "tweet = widgets.Text(placeholder='Your tweet here')\n",
    "\n",
    "tweet.layout.margin = '0 auto 10px'"
   ]
  },
  {
   "cell_type": "code",
   "execution_count": null,
   "metadata": {},
   "outputs": [],
   "source": [
    "# location\n",
    "\n",
    "location = widgets.Text(placeholder='Your location here')\n",
    "\n",
    "location.layout.margin = '0 auto'"
   ]
  },
  {
   "cell_type": "code",
   "execution_count": null,
   "metadata": {},
   "outputs": [],
   "source": [
    "button_send = widgets.Button(\n",
    "                description='Classify',\n",
    "                tooltip='Classify',\n",
    "                button_style = 'success',\n",
    "                style={'description_width': 'initial'}\n",
    "            )\n",
    "\n",
    "button_send.layout.width = '130px'\n",
    "button_send.layout.height = '50px'\n",
    "button_send.layout.margin = '30px auto'\n",
    "\n",
    "output = widgets.Output()\n",
    "\n",
    "def on_button_clicked(event):\n",
    "    with output:\n",
    "        clear_output()\n",
    "        print(\"Your Tweet: \")\n",
    "        print(f\"{tweet.value}\")\n",
    "        print(\"Your Location: \")\n",
    "        print(f\"{location.value}\")\n",
    "        coords = driver.bc_get_coords(location.value)\n",
    "        lat = coords[0]\n",
    "        long = coords[1]\n",
    "        c = lat + \",\" + long\n",
    "        url = 'https://api.tomorrow.io/v4/timelines?'\n",
    "        key = 'bxz3fQWN6JZ0AeMHoDjt8KwMZkr9e2QD'\n",
    "        querystring = {\n",
    "        \"location\":c,\n",
    "        \"fields\":[\"temperature\", \"cloudCover\"],\n",
    "        \"units\":\"imperial\",\n",
    "        \"timesteps\":\"1d\",\n",
    "        \"apikey\":key}\n",
    "        response = requests.request(\"GET\", url, params=querystring)\n",
    "        results = response.json()['data']['timelines'][0]['intervals']\n",
    "        df = pd.DataFrame()\n",
    "        for daily_result in results:\n",
    "            date = daily_result['startTime'][0:10]\n",
    "            temp = round(daily_result['values']['temperature'])\n",
    "            cloud = round(daily_result['values']['cloudCover'])\n",
    "            df = df.append({'dates':date, 'temp':temp, 'cloud':cloud}, ignore_index=True)\n",
    "        week = df.head(5)\n",
    "        plt.plot(week['dates'],week['temp'],week['cloud'])\n",
    "        plt.xlabel(\"Date\")\n",
    "        plt.legend(['Temperature(F)', 'Cloud Cover'])\n",
    "        plt.title(\"Weekly Temperature\")\n",
    "        plt.show()\n",
    "        print(driver.classify(tweet.value, location.value))    \n",
    "\n",
    "button_send.on_click(on_button_clicked)\n",
    "\n",
    "vbox_result = widgets.VBox([output])"
   ]
  },
  {
   "cell_type": "code",
   "execution_count": null,
   "metadata": {},
   "outputs": [],
   "source": [
    "#text\n",
    "header_text = widgets.HTML(value=\"<h1 style='color: white;'><center>Tweet Classifier</center></h1>\")\n",
    "tweet_label = widgets.HTML(value=\"<h2 style='color: white;'><center>Please Enter your Tweet</center></h2>\")\n",
    "location_label = widgets.HTML(value=\"<h2 style='color: white;'><center>Please Enter your Location</center></h2>\")\n",
    "\n",
    "#images\n",
    "logo_image = widgets.HTML(value='<center><img src=\"Logo.png\" width=\"300px\"/></center>')\n",
    "info_image = widgets.HTML(value='<center><img src=\"info.png\" width=\"50px\"/></center>')\n",
    "location_image = widgets.HTML(value='<center><img src=\"location.png\" width=\"50px\"/></center>')\n",
    "info_image.layout.margin = \"0 10px\"\n",
    "location_image.layout.margin = \"0 10px\"\n",
    "\n",
    "\n",
    "#background\n",
    "bg= widgets.HTML(value=\"<style>.background{width:auto;background-color:grey;}</style>\")\n",
    "output_bg= widgets.HTML(value=\"<style>.result_bg{width:auto;background-color:grey;}</style>\")\n",
    "\n",
    "vbox_text = widgets.VBox([vbox_result, output_bg])"
   ]
  },
  {
   "cell_type": "code",
   "execution_count": null,
   "metadata": {},
   "outputs": [],
   "source": [
    "first_label = widgets.HBox([info_image, tweet_label])\n",
    "first_label.layout.margin = '0 auto'\n",
    "\n",
    "second_label = widgets.HBox([location_image, location_label])\n",
    "second_label.layout.margin = '0 auto'"
   ]
  },
  {
   "cell_type": "code",
   "execution_count": null,
   "metadata": {},
   "outputs": [],
   "source": [
    "page = widgets.VBox(children=[logo_image,bg,header_text,first_label,tweet,second_label,location,button_send,vbox_text])\n",
    "page.add_class(\"background\")\n",
    "vbox_text.add_class(\"result_bg\")\n",
    "\n",
    "display(page)"
   ]
  },
  {
   "cell_type": "code",
   "execution_count": null,
   "metadata": {},
   "outputs": [],
   "source": [
    "#!pip freeze > requirements.txt"
   ]
  },
  {
   "cell_type": "code",
   "execution_count": null,
   "metadata": {},
   "outputs": [],
   "source": []
  }
 ],
 "metadata": {
  "kernelspec": {
   "display_name": "Python 3",
   "language": "python",
   "name": "python3"
  },
  "language_info": {
   "codemirror_mode": {
    "name": "ipython",
    "version": 3
   },
   "file_extension": ".py",
   "mimetype": "text/x-python",
   "name": "python",
   "nbconvert_exporter": "python",
   "pygments_lexer": "ipython3",
   "version": "3.8.5"
  }
 },
 "nbformat": 4,
 "nbformat_minor": 5
}
